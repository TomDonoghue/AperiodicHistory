{
 "cells": [
  {
   "cell_type": "markdown",
   "id": "bbff9380",
   "metadata": {},
   "source": [
    "# Aperiodic History\n",
    "\n",
    "Words."
   ]
  },
  {
   "cell_type": "code",
   "execution_count": 12,
   "id": "4fd55bdb",
   "metadata": {},
   "outputs": [],
   "source": [
    "# Import lisc code\n",
    "from lisc import Words\n",
    "from lisc.data import ArticlesAll\n",
    "from lisc.collect import collect_info, collect_across_time"
   ]
  },
  {
   "cell_type": "code",
   "execution_count": null,
   "id": "49b461d4",
   "metadata": {},
   "outputs": [],
   "source": []
  },
  {
   "cell_type": "code",
   "execution_count": 13,
   "id": "84f91242",
   "metadata": {},
   "outputs": [],
   "source": [
    "import seaborn as sns\n",
    "sns.set_context('talk')"
   ]
  },
  {
   "cell_type": "markdown",
   "id": "742af631",
   "metadata": {},
   "source": [
    "## Settings"
   ]
  },
  {
   "cell_type": "code",
   "execution_count": 14,
   "id": "17ecb781",
   "metadata": {},
   "outputs": [],
   "source": [
    "# Data collection settings\n",
    "RUN_COLLECTION = True"
   ]
  },
  {
   "cell_type": "code",
   "execution_count": 15,
   "id": "16f1531b",
   "metadata": {},
   "outputs": [],
   "source": [
    "# Settings for literature collection\n",
    "db = 'pubmed'\n",
    "retmax = 100"
   ]
  },
  {
   "cell_type": "code",
   "execution_count": null,
   "id": "8560fc59",
   "metadata": {},
   "outputs": [],
   "source": []
  },
  {
   "cell_type": "markdown",
   "id": "036ecfef",
   "metadata": {},
   "source": [
    "## Terms"
   ]
  },
  {
   "cell_type": "code",
   "execution_count": 16,
   "id": "722a4629",
   "metadata": {},
   "outputs": [],
   "source": [
    "# Set list of aperiodic terms & labels\n",
    "terms = [\n",
    "    ['aperiodic', 'arrythmic'],\n",
    "    ['1/f', '1/f-like', 'one-over f'],\n",
    "]"
   ]
  },
  {
   "cell_type": "code",
   "execution_count": 17,
   "id": "55486e8e",
   "metadata": {},
   "outputs": [],
   "source": [
    "# Set inclusion / exclusion terms\n",
    "inclusions = [\n",
    "    'EEG', 'electroencephalography',\n",
    "    'MEG', 'magnetoencephalography',\n",
    "    'ECoG', 'electrocorticography',\n",
    "    'iEEG', 'intracranial EEG',\n",
    "    'LFP', 'local field potential',\n",
    "]"
   ]
  },
  {
   "cell_type": "code",
   "execution_count": 18,
   "id": "562e6d9c",
   "metadata": {},
   "outputs": [],
   "source": [
    "# Collect all terms together\n",
    "all_terms = {\n",
    "    'terms' : terms,\n",
    "    'inclusions' : [inclusions] * len(terms),\n",
    "}"
   ]
  },
  {
   "cell_type": "markdown",
   "id": "2cd47c22",
   "metadata": {},
   "source": [
    "## XX"
   ]
  },
  {
   "cell_type": "code",
   "execution_count": null,
   "id": "ab3dfcba",
   "metadata": {},
   "outputs": [],
   "source": []
  },
  {
   "cell_type": "code",
   "execution_count": 19,
   "id": "60254182",
   "metadata": {},
   "outputs": [],
   "source": [
    "words = Words()"
   ]
  },
  {
   "cell_type": "code",
   "execution_count": 20,
   "id": "9729b391",
   "metadata": {},
   "outputs": [],
   "source": [
    "words.add_terms(all_terms)"
   ]
  },
  {
   "cell_type": "code",
   "execution_count": null,
   "id": "30c597fa",
   "metadata": {},
   "outputs": [],
   "source": []
  },
  {
   "cell_type": "code",
   "execution_count": 21,
   "id": "773d2cfa",
   "metadata": {},
   "outputs": [
    {
     "name": "stdout",
     "output_type": "stream",
     "text": [
      "List of terms used: \n",
      "\n",
      "aperiodic  : aperiodic, arrythmic\n",
      "1/f        : 1/f, 1/f-like, one-over f\n"
     ]
    }
   ],
   "source": [
    "words.check_terms()"
   ]
  },
  {
   "cell_type": "code",
   "execution_count": 22,
   "id": "15013a36",
   "metadata": {},
   "outputs": [
    {
     "name": "stdout",
     "output_type": "stream",
     "text": [
      "List of inclusions used: \n",
      "\n",
      "aperiodic  : EEG, electroencephalography, MEG, magnetoencephalography, ECoG, electrocorticography, iEEG, intracranial EEG, LFP, local field potential\n",
      "1/f        : EEG, electroencephalography, MEG, magnetoencephalography, ECoG, electrocorticography, iEEG, intracranial EEG, LFP, local field potential\n"
     ]
    }
   ],
   "source": [
    "words.check_terms('inclusions')"
   ]
  },
  {
   "cell_type": "markdown",
   "id": "c709a757",
   "metadata": {},
   "source": [
    "## Collection"
   ]
  },
  {
   "cell_type": "code",
   "execution_count": 25,
   "id": "4cc0807e",
   "metadata": {},
   "outputs": [],
   "source": [
    "#words.run_collection??"
   ]
  },
  {
   "cell_type": "code",
   "execution_count": 51,
   "id": "18408bfb",
   "metadata": {},
   "outputs": [],
   "source": [
    "# mindate = '1930/01/01'\n",
    "# #maxdate = '2014/12/31'\n",
    "# maxdate = '1990/12/31'"
   ]
  },
  {
   "cell_type": "code",
   "execution_count": 49,
   "id": "a9653116",
   "metadata": {},
   "outputs": [
    {
     "data": {
      "text/plain": [
       "[1940, 1950, 1960, 1970, 1980, 1990, 2000, 2010]"
      ]
     },
     "execution_count": 49,
     "metadata": {},
     "output_type": "execute_result"
    }
   ],
   "source": []
  },
  {
   "cell_type": "code",
   "execution_count": 50,
   "id": "0e0d31f4",
   "metadata": {},
   "outputs": [],
   "source": [
    "# Define years of interest - step across decades\n",
    "years = list(range(1940, 2020, 10))"
   ]
  },
  {
   "cell_type": "code",
   "execution_count": 52,
   "id": "9961abcd",
   "metadata": {},
   "outputs": [
    {
     "name": "stderr",
     "output_type": "stream",
     "text": [
      "/Users/tom/opt/anaconda3/lib/python3.8/site-packages/bs4/builder/__init__.py:545: XMLParsedAsHTMLWarning: It looks like you're parsing an XML document using an HTML parser. If this really is an HTML document (maybe it's XHTML?), you can ignore or filter this warning. If it's XML, you should know that using an XML parser will be more reliable. To parse this document as XML, make sure you have the lxml package installed, and pass the keyword argument `features=\"xml\"` into the BeautifulSoup constructor.\n",
      "  warnings.warn(\n"
     ]
    }
   ],
   "source": [
    "word_years = collect_across_time(words, years, retmax=100)"
   ]
  },
  {
   "cell_type": "code",
   "execution_count": 33,
   "id": "aa140ed8",
   "metadata": {},
   "outputs": [
    {
     "data": {
      "text/plain": [
       "{1940: <lisc.objects.words.Words at 0x7fb0ba8384f0>,\n",
       " 1960: <lisc.objects.words.Words at 0x7fb0ba839610>,\n",
       " 1980: <lisc.objects.words.Words at 0x7fb0ba836880>,\n",
       " 2000: <lisc.objects.words.Words at 0x7fb0ba6849a0>}"
      ]
     },
     "execution_count": 33,
     "metadata": {},
     "output_type": "execute_result"
    }
   ],
   "source": [
    "word_years"
   ]
  },
  {
   "cell_type": "code",
   "execution_count": null,
   "id": "c5ac89c7",
   "metadata": {},
   "outputs": [],
   "source": []
  },
  {
   "cell_type": "code",
   "execution_count": null,
   "id": "12a37fea",
   "metadata": {},
   "outputs": [],
   "source": []
  },
  {
   "cell_type": "code",
   "execution_count": null,
   "id": "e5e77982",
   "metadata": {},
   "outputs": [],
   "source": []
  },
  {
   "cell_type": "code",
   "execution_count": null,
   "id": "8ed3db1a",
   "metadata": {},
   "outputs": [],
   "source": []
  },
  {
   "cell_type": "code",
   "execution_count": null,
   "id": "3b02957d",
   "metadata": {},
   "outputs": [],
   "source": []
  },
  {
   "cell_type": "code",
   "execution_count": 34,
   "id": "9796a2d5",
   "metadata": {},
   "outputs": [],
   "source": [
    "# # Run collection\n",
    "# words.run_collection(retmax=retmax, mindate=mindate, maxdate=maxdate)"
   ]
  },
  {
   "cell_type": "code",
   "execution_count": 42,
   "id": "ef1ac738",
   "metadata": {},
   "outputs": [],
   "source": [
    "words = word_years[1980]"
   ]
  },
  {
   "cell_type": "code",
   "execution_count": 43,
   "id": "30f16040",
   "metadata": {},
   "outputs": [
    {
     "name": "stdout",
     "output_type": "stream",
     "text": [
      "Number of collected articles per term:\n",
      "\taperiodic \t\t  57\n",
      "\t1/f       \t\t  15\n"
     ]
    }
   ],
   "source": [
    "# Check the number of papers found per term\n",
    "words.check_data()"
   ]
  },
  {
   "cell_type": "code",
   "execution_count": 44,
   "id": "0425458a",
   "metadata": {},
   "outputs": [],
   "source": [
    "###"
   ]
  },
  {
   "cell_type": "code",
   "execution_count": 45,
   "id": "9f69144d",
   "metadata": {},
   "outputs": [],
   "source": [
    "# Compute the all-articles representations of results per search term\n",
    "arts_all = {}\n",
    "for label, res in zip(words.labels, words.results):\n",
    "    arts_all[label] = ArticlesAll(res)\n"
   ]
  },
  {
   "cell_type": "code",
   "execution_count": 46,
   "id": "76760359",
   "metadata": {},
   "outputs": [
    {
     "name": "stdout",
     "output_type": "stream",
     "text": [
      "aperiodic :\n",
      "  Number of articles: \t\t 57\n",
      "  First publication: \t\t 1975\n",
      "  Most common author: \t\t Danhof M\n",
      "    number of publications: \t 14\n",
      "  Most common journal: \t\t Anesthesiology\n",
      "    number of publications: \t 7 \n",
      "\n",
      "1/f :\n",
      "  Number of articles: \t\t 15\n",
      "  First publication: \t\t 1975\n",
      "  Most common author: \t\t Nakata M\n",
      "    number of publications: \t 4\n",
      "  Most common journal: \t\t No to shinkei = Brain and nerve\n",
      "    number of publications: \t 2 \n",
      "\n"
     ]
    }
   ],
   "source": [
    "# Check the summaries per search term\n",
    "for label, arts in arts_all.items():\n",
    "    arts.create_summary()\n",
    "    arts.print_summary()"
   ]
  },
  {
   "cell_type": "code",
   "execution_count": 47,
   "id": "67c22328",
   "metadata": {
    "scrolled": false
   },
   "outputs": [
    {
     "name": "stdout",
     "output_type": "stream",
     "text": [
      "\n",
      "\n",
      " aperiodic \n",
      "\n",
      "\n",
      "Article - Burke, 1998: Optimization of olfactory model in software to give 1/f power spectra reveals numerical instabilities in solutions governed by aperiodic (chaotic) attractors.\n",
      "Article - Strungaru, 1998: Neural network for sleep EEG K-complex detection.\n",
      "Article - Lu, 1997: [The design and application of a computer aided system for measuring the electroencephalographic effect].\n",
      "Article - Barrie, 1999: Statistical evaluation of clusters derived by nonlinear mapping of EEG spatial patterns.\n",
      "Article - De Paepe, 1999: Relationship between etomidate plasma concentration and EEG effect in the rat.\n",
      "Article - Srivastava, 1998: Pharmacokinetic and pharmacodynamic consequences of thiopental in renal dysfunction rats: evaluation with electroencephalography.\n",
      "Article - Momota, 1998: Posttreatment with propofol terminates lidocaine-induced epileptiform electroencephalogram activity in rabbits: effects on cerebrospinal fluid dynamics.\n",
      "Article - Hoke, 1997: Comparative pharmacokinetics and pharmacodynamics of remifentanil, its principle metabolite (GR90291) and alfentanil in dogs.\n",
      "Article - Schnider, 1996: Semilinear canonical correlation applied to the measurement of the electroencephalographic effects of midazolam and flumazenil reversal.\n",
      "Article - Steffen, 1996: [Reference values of electrodiagnostic and laboratory studies in young Wallis Schwarzhals goats].\n",
      "Article - Gustafsson, 1996: Quantitation of depth of thiopental anesthesia in the rat.\n",
      "Article - Mandema, 1995: Pharmacodynamic model for acute tolerance development to the electroencephalographic effects of alfentanil in the rat.\n",
      "Article - Lu, 1994: Pharmacokinetic-pharmacodynamic modeling of electroencephalographic effects of midazolam in eight Chinese men.\n",
      "Article - Kanaya, 1994: Haemodynamic and EEG changes during rapid-sequence induction of anaesthesia.\n",
      "Article - Montplaisir, 1994: [The restless leg syndrome: a condition associated with periodic or aperiodic slowing of the EEG].\n",
      "Article - Stam, 1994: Non-linear dynamical analysis of multichannel EEG: clinical applications in dementia and Parkinson's disease.\n",
      "Article - Van Steveninck, 1993: A comparison of the concentration-effect relationships of midazolam for EEG-derived parameters and saccadic peak velocity.\n",
      "Article - Artru, 1993: Rate of cerebrospinal fluid formation, resistance to reabsorption of cerebrospinal fluid, brain tissue water content, and electroencephalogram during desflurane anesthesia in dogs.\n",
      "Article - Seifert, 1993: Sedative doses of propofol increase beta activity of the processed electroencephalogram.\n",
      "Article - Kanaya, 1993: [Usefulness of electroencephalogram and transcranial Doppler sonography for brain function monitoring during selective cerebral perfusion].\n",
      "Article - Kanaya, 1993: [Cerebral blood flow velocity and electroencephalogram for the evaluation of intraoperative brain function during intrathoracic hyperthermia].\n",
      "Article - Hung, 1992: Thiopental pharmacodynamics. II. Quantitation of clinical and electroencephalographic depth of anesthesia.\n",
      "Article - Bührer, 1992: Thiopental pharmacodynamics. I. Defining the pseudo-steady-state serum concentration-EEG effect relationship.\n",
      "Article - Mandema, 1992: Modeling of the effect site equilibration kinetics and pharmacodynamics of racemic baclofen and its enantiomers using quantitative EEG effect measures.\n",
      "Article - Neely, 1975: Effect of coronary blood flow on glycolytic flux and intracellular pH in isolated rat hearts.\n",
      "Article - Leung, 1975: Reconstitution of ion transport and respiratory control in vesicles formed from reduced coenzyme Q-cytochrome c reductase and phospholipids.\n",
      "Article - Mandema, 1992: Differences in intrinsic efficacy of benzodiazepines are reflected in their concentration-EEG effect relationship.\n",
      "Article - Mandema, 1992: In vivo characterization of the pharmacodynamic interaction of a benzodiazepine agonist and antagonist: midazolam and flumazenil.\n",
      "Article - Mandema, 1991: Estimation of amobarbital plasma-effect site equilibration kinetics. Relevance of polyexponential conductance functions.\n",
      "Article - Aarons, 1991: A population analysis of the pharmacokinetics and pharmacodynamics of midazolam in the rat.\n",
      "Article - Erdmann, 1991: [The potentialities of EEG analysis using the Lifescan in anesthesiology].\n",
      "Article - Veng-Pedersen, 1991: Biophase equilibration times.\n",
      "Article - Breimer, 1991: Pharmacokinetic-pharmacodynamic modelling of the interaction between flumazenil and midazolam in volunteers by aperiodic EEG analysis.\n",
      "Article - Breimer, 1991: Pharmacokinetics and EEG effects of flumazenil in volunteers.\n",
      "Article - Ebling, 1991: Pharmacodynamic characterization of the electroencephalographic effects of thiopental in rats.\n",
      "Article - Mandema, 1991: Pharmacokinetic-pharmacodynamic modeling of the electroencephalographic effects of benzodiazepines. Correlation with receptor binding and anticonvulsant activity.\n",
      "Article - Stephan, 1991: [The effect of sufentanil on cerebral blood flow, cerebral metabolism and the CO2 reactivity of the cerebral vessels in man].\n",
      "Article - Mandema, 1991: Pharmacokinetic-pharmacodynamic modelling of the EEG effects of midazolam in individual rats: influence of rate and route of administration.\n",
      "Article - Mandema, 1990: Pharmacokinetic-pharmacodynamic modeling of the central nervous system effects of heptabarbital using aperiodic EEG analysis.\n",
      "Article - Maitre, 1990: Estimating the rate of thiopental blood-brain equilibration using pseudo steady state serum concentrations.\n",
      "Article - Kitahara, 1990: [Aperiodic analysis of EEG in children during halothane anesthesia].\n",
      "Article - Breimer, 1990: Quantification of the EEG effect of midazolam by aperiodic analysis in volunteers. Pharmacokinetic/pharmacodynamic modelling.\n",
      "Article - Koślacz-Folga, 1990: [Clinical-bioelectric correlation of spastic seizures in children--prospective study].\n",
      "Article - Artru, 1990: The rate of CSF formation, resistance to reabsorption of CSF, and aperiodic analysis of the EEG following administration of flumazenil to dogs.\n",
      "Article - Weber, 1989: [Ambiguities and discrepancies in EEG monitoring during anesthesia].\n",
      "Article - Koumoundouros, 1989: EEG monitoring using aperiodic analysis during carotid and open heart surgery.\n",
      "Article - Silbert, 1989: The use of aperiodic analysis of the EEG during carotid artery surgery.\n",
      "Article - Clark, 1989: Interference of automated electroencephalographic processing by an endocardial pacemaker.\n",
      "Article - Spackman, 1987: A comparison of aperiodic analysis of the EEG with standard EEG and cerebral blood flow for detection of ischemia.\n",
      "Article - Ghignone, 1986: Effects of clonidine on narcotic requirements and hemodynamic response during induction of fentanyl anesthesia and endotracheal intubation.\n",
      "Article - Kotyk, 1975: Transport of 4-deoxy- and 6-deoxy-D-glucose in baker's yeast.\n",
      "Article - Chan, 1976: The absolute configuration of the amino acids in delta-(alpha-aminoadipyl)cysteinylvaline from Penicillium chrysogenum.\n",
      "Article - Amiragova, 1985: Neurophysiological analysis of the development of endocrine and hypertensive reactions in prolonged emotional stress.\n",
      "Article - Smith, 1985: An electroencephalographic comparison of alfentanil with other narcotics and with thiopental.\n",
      "Article - Smith, 1984: EEGs during high-dose fentanyl-, sufentanil-, or morphine-oxygen anesthesia.\n",
      "Article - Arduini, 1983: Continuous correlation between brain activities.\n",
      "Article - Amiragova, 1982: [Correlations of central nervous system and thyroid function under chronic emotional stress].\n",
      "\n",
      "\n",
      " 1/f \n",
      "\n",
      "\n",
      "Article - Burke, 1998: Optimization of olfactory model in software to give 1/f power spectra reveals numerical instabilities in solutions governed by aperiodic (chaotic) attractors.\n",
      "Article - Kavitha, 1999: A chaos-based model for low complexity predictive coding scheme for compression and transmission of electroencephalogram data.\n",
      "Article - Popivanov, 1999: Testing procedures for non-stationarity and non-linearity in physiological signals.\n",
      "Article - Pereda, 1998: Non-linear behaviour of human EEG: fractal exponent versus correlation dimension in awake and sleep stages.\n",
      "Article - Barrie, 1996: Spatiotemporal analysis of prepyriform, visual, auditory, and somesthetic surface EEGs in trained rabbits.\n",
      "Article - Kim, 1996: Differentiation of alpha coma from awake alpha by nonlinear dynamics of electroencephalography.\n",
      "Article - Nakata, 1993: Evaluation of human consciousness level by means of \"Automated Fluctuation Analysis\" of high frequency electroencephalogram fitted by double Lorentzians.\n",
      "Article - Nakata, 1992: [Electrophysiological evaluation of human consciousness level by \"Automated Fluctuation Analysis\" of human high frequency EEG].\n",
      "Article - Pritchard, 1992: The brain in fractal time: 1/f-like power spectrum scaling of the human electroencephalogram.\n",
      "Article - Ikeda, 1992: [Concentration-effect and underestimation of time by acoustic stimuli].\n",
      "Article - Nakata, 1992: [Electrophysiological evaluation of diazepam anesthetic effect by \"automated fluctuation analysis\" of high frequency EEG in human].\n",
      "Article - Valensise, 1991: Fetal behavioural states and hypertensive pregnancy.\n",
      "Article - Bose, 1975: Delineation of the intimate details of the backbone conformation of pyridine nucleotide coenzymes in aqueous solution.\n",
      "Article - Freeman, 1987: Spatial patterns of visual cortical fast EEG during conditioned reflex in a rhesus monkey.\n",
      "Article - Nakata, 1987: [How to evaluate recirculation effect on brain function after global ischemia--broad spectral EEG analysis by Fourier method].\n"
     ]
    }
   ],
   "source": [
    "# Check the results per search term\n",
    "for results in words.results:\n",
    "    print('\\n\\n', results.label, '\\n\\n')\n",
    "    for cres in results:\n",
    "        print('Article -', cres['authors'][0][0] + ',', str(cres['year']) + ':', cres['title'])"
   ]
  },
  {
   "cell_type": "code",
   "execution_count": null,
   "id": "338031c1",
   "metadata": {},
   "outputs": [],
   "source": []
  },
  {
   "cell_type": "code",
   "execution_count": null,
   "id": "ebc8e819",
   "metadata": {},
   "outputs": [],
   "source": []
  },
  {
   "cell_type": "code",
   "execution_count": null,
   "id": "a7922ce3",
   "metadata": {},
   "outputs": [],
   "source": []
  },
  {
   "cell_type": "code",
   "execution_count": null,
   "id": "dbd53e3e",
   "metadata": {},
   "outputs": [],
   "source": []
  },
  {
   "cell_type": "code",
   "execution_count": null,
   "id": "c0b2b0e2",
   "metadata": {},
   "outputs": [],
   "source": []
  }
 ],
 "metadata": {
  "kernelspec": {
   "display_name": "Python 3 (ipykernel)",
   "language": "python",
   "name": "python3"
  },
  "language_info": {
   "codemirror_mode": {
    "name": "ipython",
    "version": 3
   },
   "file_extension": ".py",
   "mimetype": "text/x-python",
   "name": "python",
   "nbconvert_exporter": "python",
   "pygments_lexer": "ipython3",
   "version": "3.8.3"
  }
 },
 "nbformat": 4,
 "nbformat_minor": 5
}
